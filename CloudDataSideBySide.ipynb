{
 "cells": [
  {
   "cell_type": "markdown",
   "id": "af38f8f8",
   "metadata": {},
   "source": [
    "# Load DICOM data stored in IGT Cloud\n"
   ]
  },
  {
   "cell_type": "markdown",
   "id": "5f25fa1f",
   "metadata": {},
   "source": [
    "The url to the cloud:"
   ]
  },
  {
   "cell_type": "code",
   "execution_count": 1,
   "id": "f06ecd81",
   "metadata": {},
   "outputs": [],
   "source": [
    "igtcloud_domain = 'igt-web.eu1.phsdp.com'\n",
    "username = 'danny.ruijters@philips.com'\n",
    "# username = '<your hsdp iam username>'"
   ]
  },
  {
   "cell_type": "markdown",
   "id": "2179a71b",
   "metadata": {},
   "source": [
    "Import the igtcloud packages:"
   ]
  },
  {
   "cell_type": "code",
   "execution_count": 3,
   "id": "d255d79f",
   "metadata": {},
   "outputs": [],
   "source": [
    "import logging\n",
    "logging.basicConfig(level=logging.INFO)\n",
    "\n",
    "from igtcloud.client.services import entities_service, auth_service\n",
    "from igtcloud.client.core.auth import AuthRefresher"
   ]
  },
  {
   "cell_type": "markdown",
   "id": "c2583c71",
   "metadata": {},
   "source": [
    "Either login using `igtcloud login` or use the following cell"
   ]
  },
  {
   "cell_type": "code",
   "execution_count": 4,
   "id": "be746ccc",
   "metadata": {
    "scrolled": true
   },
   "outputs": [
    {
     "name": "stderr",
     "output_type": "stream",
     "text": [
      "INFO:igtcloud.client.core.auth:Starting IGT Cloud authentication handler...\n",
      "INFO:igtcloud.client.core.auth:Login to IGT Cloud (igt-web.eu1.phsdp.com)\n"
     ]
    },
    {
     "name": "stdin",
     "output_type": "stream",
     "text": [
      "danny.ruijters@philips.com@igt-web.eu1.phsdp.com's password:  ········\n"
     ]
    },
    {
     "name": "stderr",
     "output_type": "stream",
     "text": [
      "INFO:igtcloud.client.core.auth:Logged in as: danny.ruijters@philips.com\n"
     ]
    }
   ],
   "source": [
    "_auth_refresher = AuthRefresher(domain=igtcloud_domain, username=username)\n",
    "_auth_handler = _auth_refresher.__enter__()\n",
    "entities_service.auth_handler = _auth_handler\n",
    "auth_service.auth_handler = _auth_handler"
   ]
  },
  {
   "cell_type": "markdown",
   "id": "22ecc974",
   "metadata": {},
   "source": [
    "List all institutes (hospitals) in your account:"
   ]
  },
  {
   "cell_type": "code",
   "execution_count": 5,
   "id": "b9dc5d88",
   "metadata": {},
   "outputs": [
    {
     "data": {
      "application/vnd.jupyter.widget-view+json": {
       "model_id": "8683ca4ff6f24d1f8920364faa19bf30",
       "version_major": 2,
       "version_minor": 0
      },
      "text/plain": [
       "Select(description='Projects:', layout=Layout(width='auto'), options=('Istanbul', 'AD Open Innovation project'…"
      ]
     },
     "execution_count": 5,
     "metadata": {},
     "output_type": "execute_result"
    }
   ],
   "source": [
    "projects = entities_service.get_projects()\n",
    "\n",
    "import ipywidgets as widgets\n",
    "select_proj = widgets.Select(\n",
    "    options=[i.description for i in projects],\n",
    "    rows=10, layout=widgets.Layout(width=\"auto\"),\n",
    "    description='Projects:'\n",
    ")\n",
    "select_proj"
   ]
  },
  {
   "cell_type": "code",
   "execution_count": 6,
   "id": "b7b32f61-41b0-425a-9496-d10de69739b8",
   "metadata": {},
   "outputs": [
    {
     "data": {
      "application/vnd.jupyter.widget-view+json": {
       "model_id": "62354b30a26a4c97a3fde75221a92534",
       "version_major": 2,
       "version_minor": 0
      },
      "text/plain": [
       "Select(description='Institutes:', layout=Layout(width='auto'), options=('Medusa - Philips IGT annotation tool …"
      ]
     },
     "execution_count": 6,
     "metadata": {},
     "output_type": "execute_result"
    }
   ],
   "source": [
    "project = projects[select_proj.index]\n",
    "institutes = entities_service.get_institutes(project.id)\n",
    "\n",
    "select_inst = widgets.Select(\n",
    "    options=[i.description for i in institutes],\n",
    "    rows=10, layout=widgets.Layout(width=\"auto\"),\n",
    "    description='Institutes:'\n",
    ")\n",
    "select_inst"
   ]
  },
  {
   "cell_type": "markdown",
   "id": "0ec76430",
   "metadata": {},
   "source": [
    "Load an overview of the studies for the selected hospitals, and list the patient names:"
   ]
  },
  {
   "cell_type": "code",
   "execution_count": 7,
   "id": "2ff94565",
   "metadata": {},
   "outputs": [
    {
     "data": {
      "application/vnd.jupyter.widget-view+json": {
       "model_id": "f0b1b86b6d9f48869a1f33c9ab7b2319",
       "version_major": 2,
       "version_minor": 0
      },
      "text/plain": [
       "Select(description='Patients:', layout=Layout(width='auto'), options=('Medusa-annotate-00002', 'Medusa-annotat…"
      ]
     },
     "execution_count": 7,
     "metadata": {},
     "output_type": "execute_result"
    }
   ],
   "source": [
    "institute = institutes[select_inst.index]\n",
    "#print(institute)\n",
    "studies = entities_service.get_studies(institute.id)\n",
    "\n",
    "select_pat = widgets.Select(\n",
    "    options=[s.patient.patient_name for s in studies],\n",
    "    rows=10, layout=widgets.Layout(width=\"auto\"),\n",
    "    description='Patients:'\n",
    ")\n",
    "select_pat"
   ]
  },
  {
   "cell_type": "markdown",
   "id": "a1bdfeb4",
   "metadata": {},
   "source": [
    "Display all the thumbnail preview images in the selected patient:"
   ]
  },
  {
   "cell_type": "code",
   "execution_count": 8,
   "id": "2d032459-cb8e-456b-bcc8-982aefea1344",
   "metadata": {},
   "outputs": [
    {
     "data": {
      "application/vnd.jupyter.widget-view+json": {
       "model_id": "5c474514fa3e4f98aea577567d4e28c7",
       "version_major": 2,
       "version_minor": 0
      },
      "text/plain": [
       "HBox(children=(Image(value=b\"\\x89PNG\\r\\n\\x1a\\n\\x00\\x00\\x00\\rIHDR\\x00\\x00\\x00\\x80\\x00\\x00\\x00\\x80\\x08\\x00\\x00\\x…"
      ]
     },
     "metadata": {},
     "output_type": "display_data"
    }
   ],
   "source": [
    "# display the thumbnails\n",
    "import io\n",
    "from IPython.display import display\n",
    "\n",
    "def preview(files):\n",
    "    images = []\n",
    "    for file in files[:50]:  #parse first 50 files to keep processing time limited\n",
    "        if file.type == '.jpg' or file.type == '.png':\n",
    "            with io.BytesIO() as fp:\n",
    "                file.download_fileobj(fp)\n",
    "                fp.seek(0)\n",
    "                img = widgets.Image(value=fp.read(), format=file.type[1:])\n",
    "                if len(images) > 0: img.height=images[0].height\n",
    "                images.append(img)\n",
    "    display(widgets.HBox(images))\n",
    "\n",
    "study_id = studies[select_pat.index].study_database_id\n",
    "study_files = entities_service.get_study_files(institute.id, study_id, auxiliary=True)\n",
    "if hasattr(study_files, 'dicom'): preview(study_files.dicom)\n",
    "if hasattr(study_files, 'files'): preview(study_files.files)"
   ]
  },
  {
   "cell_type": "markdown",
   "id": "1a111146",
   "metadata": {},
   "source": [
    "Select one of the files:"
   ]
  },
  {
   "cell_type": "code",
   "execution_count": 9,
   "id": "968879d3-27c8-49ed-9818-1f32369dd81b",
   "metadata": {},
   "outputs": [
    {
     "data": {
      "application/vnd.jupyter.widget-view+json": {
       "model_id": "4a59222989a84942929243bfbed04d46",
       "version_major": 2,
       "version_minor": 0
      },
      "text/plain": [
       "Select(description='Files:', layout=Layout(width='auto'), options=('IVUS/20230731171358070b5e8639efb/DICOMDIR'…"
      ]
     },
     "execution_count": 9,
     "metadata": {},
     "output_type": "execute_result"
    }
   ],
   "source": [
    "if hasattr(study_files, 'dicom'):\n",
    "    dicom_files = [file for file in study_files.dicom if file.type == 'unknown']\n",
    "else:\n",
    "    dicom_files = [file for file in study_files.files if file.type == 'unknown']\n",
    "    \n",
    "select_file1 = widgets.Select(\n",
    "    options=[f.file_name for f in dicom_files],\n",
    "    rows=10, layout=widgets.Layout(width=\"auto\"),\n",
    "    description='Files:'\n",
    ")\n",
    "select_file2 = widgets.Select(\n",
    "    options=[f.file_name for f in dicom_files],\n",
    "    rows=10, layout=widgets.Layout(width=\"auto\"),\n",
    "    description='Files:'\n",
    ")\n",
    "select_file3 = widgets.Select(\n",
    "    options=[f.file_name for f in dicom_files],\n",
    "    rows=10, layout=widgets.Layout(width=\"auto\"),\n",
    "    description='Files:'\n",
    ")\n",
    "select_file1"
   ]
  },
  {
   "cell_type": "code",
   "execution_count": 10,
   "id": "5933f732-b9c4-4add-a9be-29a1cba46fa0",
   "metadata": {},
   "outputs": [
    {
     "data": {
      "application/vnd.jupyter.widget-view+json": {
       "model_id": "2940d6e2d7a94b258f1197b102e99421",
       "version_major": 2,
       "version_minor": 0
      },
      "text/plain": [
       "Select(description='Files:', layout=Layout(width='auto'), options=('IVUS/20230731171358070b5e8639efb/DICOMDIR'…"
      ]
     },
     "execution_count": 10,
     "metadata": {},
     "output_type": "execute_result"
    }
   ],
   "source": [
    "select_file2"
   ]
  },
  {
   "cell_type": "code",
   "execution_count": 11,
   "id": "291a6173-bb89-4556-853b-349e9c3a6f58",
   "metadata": {},
   "outputs": [
    {
     "data": {
      "application/vnd.jupyter.widget-view+json": {
       "model_id": "ef0963eb5e974eaf997f42339b78ce96",
       "version_major": 2,
       "version_minor": 0
      },
      "text/plain": [
       "Select(description='Files:', layout=Layout(width='auto'), options=('IVUS/20230731171358070b5e8639efb/DICOMDIR'…"
      ]
     },
     "execution_count": 11,
     "metadata": {},
     "output_type": "execute_result"
    }
   ],
   "source": [
    "select_file3"
   ]
  },
  {
   "cell_type": "markdown",
   "id": "2e099f72-f3f8-4124-ab7d-ca15bf14eb86",
   "metadata": {},
   "source": [
    "Download the selected file, store as temporary file, and interpret as DICOM:"
   ]
  },
  {
   "cell_type": "code",
   "execution_count": 14,
   "id": "c6b55129-8790-49d5-8266-55fefcdbefa3",
   "metadata": {},
   "outputs": [],
   "source": [
    "import tempfile\n",
    "import pydicom\n",
    "\n",
    "def LoadDicom(file):\n",
    "    with tempfile.TemporaryFile() as fp:\n",
    "        file.download_fileobj(fp)\n",
    "        fp.seek(0)\n",
    "        return pydicom.read_file(fp)\n",
    "\n",
    "dicom1 = LoadDicom(dicom_files[select_file1.index])\n",
    "dicom2 = LoadDicom(dicom_files[select_file2.index])\n",
    "dicom3 = LoadDicom(dicom_files[select_file3.index])"
   ]
  },
  {
   "cell_type": "markdown",
   "id": "9d24532c",
   "metadata": {},
   "source": [
    "View the downloaded DICOM file:"
   ]
  },
  {
   "cell_type": "code",
   "execution_count": 15,
   "id": "f5b8b512-2736-46fe-9f70-08cfc21b1fe3",
   "metadata": {},
   "outputs": [
    {
     "data": {
      "application/vnd.jupyter.widget-view+json": {
       "model_id": "e50e52259b704ce48c8f9d4ba7994e0a",
       "version_major": 2,
       "version_minor": 0
      },
      "text/plain": [
       "HBox(children=(Image(value=b''), Image(value=b''), Image(value=b'')))"
      ]
     },
     "metadata": {},
     "output_type": "display_data"
    },
    {
     "data": {
      "application/vnd.jupyter.widget-view+json": {
       "model_id": "f5453e4ccc88476fbc58a15ffbb5ebc3",
       "version_major": 2,
       "version_minor": 0
      },
      "text/plain": [
       "interactive(children=(IntSlider(value=500, description='n', max=1000), Output()), _dom_classes=('widget-intera…"
      ]
     },
     "metadata": {},
     "output_type": "display_data"
    },
    {
     "data": {
      "text/plain": [
       "<function __main__.dicom_animation2(n)>"
      ]
     },
     "execution_count": 15,
     "metadata": {},
     "output_type": "execute_result"
    }
   ],
   "source": [
    "import cv2\n",
    "from ipywidgets import interact, widgets\n",
    "\n",
    "def jpeg(dicom, perc):\n",
    "    idx =  perc * (len(dicom.pixel_array)-1) // 1000\n",
    "    img = dicom.pixel_array[idx]\n",
    "    resized = cv2.resize(img, (300, 300), interpolation = cv2.INTER_AREA)\n",
    "    success, jpegbuffer = cv2.imencode(\".jpg\", resized)\n",
    "    return jpegbuffer\n",
    "\n",
    "def dicom_animation2(n):\n",
    "    images[0].value = jpeg(dicom1, n)\n",
    "    images[1].value = jpeg(dicom2, n)\n",
    "    images[2].value = jpeg(dicom3, n)\n",
    "    return n\n",
    "\n",
    "images = [ widgets.Image(), widgets.Image(), widgets.Image() ]\n",
    "display(widgets.HBox(images))\n",
    "interact(dicom_animation2, n=(0, 1000))"
   ]
  },
  {
   "cell_type": "code",
   "execution_count": null,
   "id": "ffe0125d-5325-45f4-8f56-38cb2a23051f",
   "metadata": {},
   "outputs": [],
   "source": []
  }
 ],
 "metadata": {
  "kernelspec": {
   "display_name": "Python 3 (ipykernel)",
   "language": "python",
   "name": "python3"
  },
  "language_info": {
   "codemirror_mode": {
    "name": "ipython",
    "version": 3
   },
   "file_extension": ".py",
   "mimetype": "text/x-python",
   "name": "python",
   "nbconvert_exporter": "python",
   "pygments_lexer": "ipython3",
   "version": "3.11.4"
  }
 },
 "nbformat": 4,
 "nbformat_minor": 5
}
